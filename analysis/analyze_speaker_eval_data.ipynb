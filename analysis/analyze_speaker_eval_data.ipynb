{
 "cells": [
  {
   "cell_type": "code",
   "execution_count": 76,
   "metadata": {
    "collapsed": false
   },
   "outputs": [
    {
     "data": {
      "text/plain": [
       "<module 'analysis_helpers' from 'analysis_helpers.pyc'>"
      ]
     },
     "execution_count": 76,
     "metadata": {},
     "output_type": "execute_result"
    }
   ],
   "source": [
    "%matplotlib inline\n",
    "##from skimage import data, io, filters\n",
    "import os\n",
    "import numpy as np\n",
    "from PIL import Image\n",
    "import matplotlib\n",
    "from matplotlib import pyplot,pylab\n",
    "plt = pyplot\n",
    "import scipy\n",
    "from __future__ import division\n",
    "import seaborn as sns\n",
    "sns.set_style('white')\n",
    "import string\n",
    "import pandas as pd\n",
    "import json\n",
    "import pymongo as pm\n",
    "import analysis_helpers as h\n",
    "reload(h)"
   ]
  },
  {
   "cell_type": "markdown",
   "metadata": {},
   "source": [
    "#### setup and establish access to the database"
   ]
  },
  {
   "cell_type": "code",
   "execution_count": 90,
   "metadata": {
    "collapsed": true
   },
   "outputs": [],
   "source": [
    "# set vars \n",
    "auth = pd.read_csv('auth.txt', header = None) # this auth.txt file contains the password for the sketchloop user\n",
    "pswd = auth.values[0][0]\n",
    "user = 'sketchloop'\n",
    "host = 'rxdhawkins.me' ## cocolab ip address\n",
    "\n",
    "# have to fix this to be able to analyze from local\n",
    "import pymongo as pm\n",
    "conn = pm.MongoClient('mongodb://sketchloop:' + pswd + '@127.0.0.1')\n",
    "db = conn['3dObjects']\n",
    "coll = db['shapenet_chairs_speaker_eval']"
   ]
  },
  {
   "cell_type": "code",
   "execution_count": 91,
   "metadata": {
    "collapsed": false
   },
   "outputs": [
    {
     "name": "stdout",
     "output_type": "stream",
     "text": [
      "2832 records in the database.\n",
      "46 unique workers participated.\n"
     ]
    }
   ],
   "source": [
    "## get records\n",
    "recs = coll.find({'$and': [{'iterationName':'pilot0'},{'timestamp':{'$gt':1507674252874}}]}).sort('gameID')\n",
    "print '{} records in the database.'.format(recs.count())\n",
    "print '{} unique workers participated.'.format(len(recs.distinct('wID')))"
   ]
  },
  {
   "cell_type": "markdown",
   "metadata": {},
   "source": [
    "#### loop through games and build up group data csv"
   ]
  },
  {
   "cell_type": "code",
   "execution_count": 92,
   "metadata": {
    "collapsed": false
   },
   "outputs": [],
   "source": [
    "# get list of games\n",
    "recs = coll.find({'$and': [{'iterationName':'pilot0'},{'timestamp':{'$gt':1507674252874}}]}).sort('gameID')\n",
    "games = recs.distinct('gameID')"
   ]
  },
  {
   "cell_type": "code",
   "execution_count": 79,
   "metadata": {
    "collapsed": false
   },
   "outputs": [
    {
     "name": "stdout",
     "output_type": "stream",
     "text": [
      "Analyzing 0 of 51 games ... \n",
      "Analyzing 1 of 51 games ... \n",
      "Analyzing 2 of 51 games ... \n",
      "Analyzing 3 of 51 games ... \n",
      "Analyzing 4 of 51 games ... \n",
      "Analyzing 5 of 51 games ... \n",
      "Analyzing 6 of 51 games ... \n",
      "Analyzing 7 of 51 games ... \n",
      "Analyzing 8 of 51 games ... \n",
      "Analyzing 9 of 51 games ... \n",
      "Analyzing 10 of 51 games ... \n",
      "Analyzing 11 of 51 games ... \n",
      "Analyzing 12 of 51 games ... \n",
      "Analyzing 13 of 51 games ... \n",
      "Analyzing 14 of 51 games ... \n",
      "Analyzing 15 of 51 games ... \n",
      "Analyzing 16 of 51 games ... \n",
      "Analyzing 17 of 51 games ... \n",
      "Analyzing 18 of 51 games ... \n",
      "Analyzing 19 of 51 games ... \n",
      "Analyzing 20 of 51 games ... \n",
      "Analyzing 21 of 51 games ... \n",
      "Analyzing 22 of 51 games ... \n",
      "Analyzing 23 of 51 games ... \n",
      "Analyzing 24 of 51 games ... \n",
      "Analyzing 25 of 51 games ... \n",
      "Analyzing 26 of 51 games ... \n",
      "Analyzing 27 of 51 games ... \n",
      "Analyzing 28 of 51 games ... \n",
      "Analyzing 29 of 51 games ... \n",
      "Analyzing 30 of 51 games ... \n",
      "Analyzing 31 of 51 games ... \n",
      "Analyzing 32 of 51 games ... \n",
      "Analyzing 33 of 51 games ... \n",
      "Analyzing 34 of 51 games ... \n",
      "Analyzing 35 of 51 games ... \n",
      "Analyzing 36 of 51 games ... \n",
      "Analyzing 37 of 51 games ... \n",
      "Analyzing 38 of 51 games ... \n",
      "Analyzing 39 of 51 games ... \n",
      "Analyzing 40 of 51 games ... \n",
      "Analyzing 41 of 51 games ... \n",
      "Analyzing 42 of 51 games ... \n",
      "Analyzing 43 of 51 games ... \n",
      "Analyzing 44 of 51 games ... \n",
      "Analyzing 45 of 51 games ... \n",
      "Analyzing 46 of 51 games ... \n",
      "Analyzing 47 of 51 games ... \n",
      "Analyzing 48 of 51 games ... \n",
      "Analyzing 49 of 51 games ... \n",
      "Analyzing 50 of 51 games ... \n"
     ]
    }
   ],
   "source": [
    "# extract relevant info from db\n",
    "trialNum = []\n",
    "condition = []\n",
    "correct = []\n",
    "family = []\n",
    "gameID = []\n",
    "response = []\n",
    "rt = []\n",
    "target = []\n",
    "distractor1 = []\n",
    "distractor2 = []\n",
    "\n",
    "for i,this_game in enumerate(games):    \n",
    "    print 'Analyzing {} of {} games ... '.format(i,len(games))\n",
    "    game_recs = coll.find({'$and': [{'iterationName':'pilot0'},{'timestamp':{'$gt':1507674252874}},\\\n",
    "                                   {'gameID':this_game}]}).sort('timestamp')\n",
    "    \n",
    "    for trial in game_recs:\n",
    "        trialNum.append(trial['trialNum'])\n",
    "        condition.append(trial['condition'])\n",
    "        correct.append(trial['correct'])\n",
    "        family.append(trial['family'])\n",
    "        gameID.append(trial['gameID'])\n",
    "        response.append(trial['response'].split('_')[0])\n",
    "        rt.append(trial['rt'])\n",
    "        target.append([i.split('_')[0] for i in recs[0]['choices'] if i[-6:]=='target'][0])\n",
    "        distractor1.append([i.split('_')[0] for i in recs[0]['choices'] if i[-11:]=='distractor1'][0])\n",
    "        distractor2.append([i.split('_')[0] for i in recs[0]['choices'] if i[-11:]=='distractor2'][0])\n",
    "            "
   ]
  },
  {
   "cell_type": "code",
   "execution_count": 93,
   "metadata": {
    "collapsed": false
   },
   "outputs": [],
   "source": [
    "# make dataframe\n",
    "X = pd.DataFrame([trialNum,condition,correct,family,gameID,response,rt,target,distractor1,distractor2])\n",
    "X = X.transpose()\n",
    "X.columns = ['trialNum','condition','correct','family','gameID','response','rt','target','distractor1','distractor2']\n",
    "X = h.convert_numeric(X,'correct')\n",
    "X = h.convert_numeric(X,'rt')"
   ]
  },
  {
   "cell_type": "code",
   "execution_count": 94,
   "metadata": {
    "collapsed": false
   },
   "outputs": [],
   "source": [
    "# save out to csv\n",
    "X.to_csv('./shapenet_chairs_speaker_eval_group_data.csv')"
   ]
  },
  {
   "cell_type": "code",
   "execution_count": 95,
   "metadata": {
    "collapsed": false
   },
   "outputs": [
    {
     "data": {
      "text/plain": [
       "condition\n",
       "literal      0.678598\n",
       "pragmatic    0.765684\n",
       "Name: correct, dtype: float64"
      ]
     },
     "execution_count": 95,
     "metadata": {},
     "output_type": "execute_result"
    }
   ],
   "source": [
    "X.groupby('condition')['correct'].mean()"
   ]
  },
  {
   "cell_type": "code",
   "execution_count": 96,
   "metadata": {
    "collapsed": false
   },
   "outputs": [
    {
     "data": {
      "text/plain": [
       "<matplotlib.axes._subplots.AxesSubplot at 0x1155bae50>"
      ]
     },
     "execution_count": 96,
     "metadata": {},
     "output_type": "execute_result"
    },
    {
     "data": {
      "image/png": "[encoded data removed]",
      "text/plain": [
       "<Figure size 432x288 with 1 Axes>"
      ]
     },
     "metadata": {},
     "output_type": "display_data"
    }
   ],
   "source": [
    "sns.barplot(data=X,\n",
    "            x='condition',\n",
    "            y='correct')"
   ]
  },
  {
   "cell_type": "code",
   "execution_count": null,
   "metadata": {
    "collapsed": true
   },
   "outputs": [],
   "source": []
  }
 ],
 "metadata": {
  "kernelspec": {
   "display_name": "Python 2",
   "language": "python",
   "name": "python2"
  },
  "language_info": {
   "codemirror_mode": {
    "name": "ipython",
    "version": 2
   },
   "file_extension": ".py",
   "mimetype": "text/x-python",
   "name": "python",
   "nbconvert_exporter": "python",
   "pygments_lexer": "ipython2",
   "version": "2.7.13"
  }
 },
 "nbformat": 4,
 "nbformat_minor": 1
}
