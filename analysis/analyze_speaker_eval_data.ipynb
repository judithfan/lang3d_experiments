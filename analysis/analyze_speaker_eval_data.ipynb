{
 "cells": [
  {
   "cell_type": "code",
   "execution_count": 76,
   "metadata": {
    "collapsed": false
   },
   "outputs": [
    {
     "data": {
      "text/plain": [
       "<module 'analysis_helpers' from 'analysis_helpers.pyc'>"
      ]
     },
     "execution_count": 76,
     "metadata": {},
     "output_type": "execute_result"
    }
   ],
   "source": [
    "%matplotlib inline\n",
    "##from skimage import data, io, filters\n",
    "import os\n",
    "import numpy as np\n",
    "from PIL import Image\n",
    "import matplotlib\n",
    "from matplotlib import pyplot,pylab\n",
    "plt = pyplot\n",
    "import scipy\n",
    "from __future__ import division\n",
    "import seaborn as sns\n",
    "sns.set_style('white')\n",
    "import string\n",
    "import pandas as pd\n",
    "import json\n",
    "import pymongo as pm\n",
    "import analysis_helpers as h\n",
    "reload(h)"
   ]
  },
  {
   "cell_type": "markdown",
   "metadata": {},
   "source": [
    "#### setup and establish access to the database"
   ]
  },
  {
   "cell_type": "code",
   "execution_count": 97,
   "metadata": {
    "collapsed": true
   },
   "outputs": [],
   "source": [
    "# set vars \n",
    "auth = pd.read_csv('auth.txt', header = None) # this auth.txt file contains the password for the sketchloop user\n",
    "pswd = auth.values[0][0]\n",
    "user = 'sketchloop'\n",
    "host = 'rxdhawkins.me' ## cocolab ip address\n",
    "\n",
    "# have to fix this to be able to analyze from local\n",
    "import pymongo as pm\n",
    "conn = pm.MongoClient('mongodb://sketchloop:' + pswd + '@127.0.0.1')\n",
    "db = conn['3dObjects']\n",
    "coll = db['shapenet_chairs_speaker_eval']"
   ]
  },
  {
   "cell_type": "code",
   "execution_count": 98,
   "metadata": {
    "collapsed": false
   },
   "outputs": [
    {
     "name": "stdout",
     "output_type": "stream",
     "text": [
      "2832 records in the database.\n",
      "46 unique workers participated.\n"
     ]
    }
   ],
   "source": [
    "## get records\n",
    "recs = coll.find({'$and': [{'iterationName':'pilot0'},{'timestamp':{'$gt':1507674252874}}]}).sort('gameID')\n",
    "print '{} records in the database.'.format(recs.count())\n",
    "print '{} unique workers participated.'.format(len(recs.distinct('wID')))"
   ]
  },
  {
   "cell_type": "markdown",
   "metadata": {},
   "source": [
    "#### loop through games and build up group data csv"
   ]
  },
  {
   "cell_type": "code",
   "execution_count": 99,
   "metadata": {
    "collapsed": false
   },
   "outputs": [],
   "source": [
    "# get list of games\n",
    "recs = coll.find({'$and': [{'iterationName':'pilot0'},{'timestamp':{'$gt':1507674252874}}]}).sort('gameID')\n",
    "games = recs.distinct('gameID')"
   ]
  },
  {
   "cell_type": "code",
   "execution_count": null,
   "metadata": {
    "collapsed": false
   },
   "outputs": [
    {
     "name": "stdout",
     "output_type": "stream",
     "text": [
      "Analyzing 0 of 54 games ... \n",
      "Analyzing 1 of 54 games ... \n"
     ]
    }
   ],
   "source": [
    "# extract relevant info from db\n",
    "trialNum = []\n",
    "condition = []\n",
    "correct = []\n",
    "family = []\n",
    "gameID = []\n",
    "response = []\n",
    "rt = []\n",
    "target = []\n",
    "distractor1 = []\n",
    "distractor2 = []\n",
    "\n",
    "for i,this_game in enumerate(games):    \n",
    "    print 'Analyzing {} of {} games ... '.format(i,len(games))\n",
    "    game_recs = coll.find({'$and': [{'iterationName':'pilot0'},{'timestamp':{'$gt':1507674252874}},\\\n",
    "                                   {'gameID':this_game}]}).sort('timestamp')\n",
    "    \n",
    "    for trial in game_recs:\n",
    "        trialNum.append(trial['trialNum'])\n",
    "        condition.append(trial['condition'])\n",
    "        correct.append(trial['correct'])\n",
    "        family.append(trial['family'])\n",
    "        gameID.append(trial['gameID'])\n",
    "        response.append(trial['response'].split('_')[0])\n",
    "        rt.append(trial['rt'])\n",
    "        target.append([i.split('_')[0] for i in recs[0]['choices'] if i[-6:]=='target'][0])\n",
    "        distractor1.append([i.split('_')[0] for i in recs[0]['choices'] if i[-11:]=='distractor1'][0])\n",
    "        distractor2.append([i.split('_')[0] for i in recs[0]['choices'] if i[-11:]=='distractor2'][0])\n",
    "            "
   ]
  },
  {
   "cell_type": "code",
   "execution_count": null,
   "metadata": {
    "collapsed": false
   },
   "outputs": [],
   "source": [
    "# make dataframe\n",
    "X = pd.DataFrame([trialNum,condition,correct,family,gameID,response,rt,target,distractor1,distractor2])\n",
    "X = X.transpose()\n",
    "X.columns = ['trialNum','condition','correct','family','gameID','response','rt','target','distractor1','distractor2']\n",
    "X = h.convert_numeric(X,'correct')\n",
    "X = h.convert_numeric(X,'rt')"
   ]
  },
  {
   "cell_type": "code",
   "execution_count": null,
   "metadata": {
    "collapsed": false
   },
   "outputs": [],
   "source": [
    "# save out to csv\n",
    "X.to_csv('./shapenet_chairs_speaker_eval_group_data.csv')"
   ]
  },
  {
   "cell_type": "code",
   "execution_count": null,
   "metadata": {
    "collapsed": false
   },
   "outputs": [],
   "source": [
    "# quick look at effect of condition (pragmatic vs. literal)\n",
    "X.groupby('condition')['correct'].mean()"
   ]
  },
  {
   "cell_type": "code",
   "execution_count": null,
   "metadata": {
    "collapsed": false
   },
   "outputs": [],
   "source": [
    "# quick plot to look at difference in identification accuracy\n",
    "sns.barplot(data=X,\n",
    "            x='condition',\n",
    "            y='correct')"
   ]
  },
  {
   "cell_type": "code",
   "execution_count": null,
   "metadata": {
    "collapsed": true
   },
   "outputs": [],
   "source": []
  }
 ],
 "metadata": {
  "kernelspec": {
   "display_name": "Python 2",
   "language": "python",
   "name": "python2"
  },
  "language_info": {
   "codemirror_mode": {
    "name": "ipython",
    "version": 2
   },
   "file_extension": ".py",
   "mimetype": "text/x-python",
   "name": "python",
   "nbconvert_exporter": "python",
   "pygments_lexer": "ipython2",
   "version": "2.7.13"
  }
 },
 "nbformat": 4,
 "nbformat_minor": 1
}
