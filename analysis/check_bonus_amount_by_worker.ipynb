{
 "cells": [
  {
   "cell_type": "code",
   "execution_count": 1,
   "metadata": {
    "collapsed": true
   },
   "outputs": [],
   "source": [
    "import numpy as np\n",
    "import pymongo as pm\n",
    "import pandas as pd\n",
    "import os\n",
    "import json\n",
    "from __future__ import division"
   ]
  },
  {
   "cell_type": "code",
   "execution_count": 2,
   "metadata": {
    "collapsed": true
   },
   "outputs": [],
   "source": [
    "# set vars \n",
    "auth = pd.read_csv('auth.txt', header = None) # this auth.txt file contains the password for the sketchloop user\n",
    "pswd = auth.values[0][0]\n",
    "user = 'sketchloop'\n",
    "host = 'rxdhawkins.me' ## cocolab ip address\n",
    "\n",
    "# have to fix this to be able to analyze from local\n",
    "import pymongo as pm\n",
    "conn = pm.MongoClient('mongodb://sketchloop:' + pswd + '@127.0.0.1')\n",
    "db = conn['3dObjects']\n",
    "coll = db['chairs_chatbox']"
   ]
  },
  {
   "cell_type": "code",
   "execution_count": 3,
   "metadata": {
    "collapsed": false
   },
   "outputs": [
    {
     "name": "stdout",
     "output_type": "stream",
     "text": [
      "worker: A6ORRFI3XOACA | aID: 3SPJ033422HA2J6E4ENYYT25YQSJYI | total_amt: 3.86 | score: 68\n"
     ]
    }
   ],
   "source": [
    "## path to compensation hit dir results\n",
    "dirpath = '/Users/judithfan/mturkrecords/compensation_rxdh/production-results'\n",
    "new_comps = [i for i in os.listdir(dirpath) if i not in ['.DS_Store','archive']]\n",
    "# print new_comps\n",
    "\n",
    "### from chairs1k expansion (doubling)\n",
    "# already_comp = ['A3BFMY5OX2WMUW','A1TQ0BT81FJYNS','A3EQR9C0L23O6E','A3ROADR7T6811', \\\n",
    "#                 'AOCRGFJ7XSJUM', 'A2FSRTLWWII5EN','A1YE00HKOL5NFI','A3G8OON0TDPN1E', \\\n",
    "#                 'A3QPVH0DRW0ZQV','A23A1WMFNPETYQ','AJM4334V07JDQ','ATF7HBD1TFI2U',\\\n",
    "#                 'A1AF25FCVKC87X','A3SHLGG66PJXEB','A10XW6SNPNQX16','A1DIGREVLNOXT3',\n",
    "#                 'A35EI6GDSC0EY8','A1SLJKNSNHOJRN','A1HN2W2M73O741','A1QVJJYYY7PHZX',\\\n",
    "#                 'A1D6XHHHMLC3VY','A3SG23IVI6PS0L','A1GVHFB9F270GX','A2EPJ9V5DYMHR2',\\\n",
    "#                 'A2EOOF9D135HQ1','A2ILAQ1PWDBZ28','A13BZCNJ0WR1T7','A39PWJRB4M0OTH',\\\n",
    "#                 'A9J2LNWLQ4NZU','A2QKM3JUFWBSMO','A3GQA3PHI2O9UN','A35NEL9WYU3VG8',\\\n",
    "#                 'A2A0DVXIJ1OC7P','A2LCOTUKCDULAA','A2CC4DS7MD6QW','A24FT8EL2YEZVK',\\\n",
    "#                 'A2CHDWKAYZ3P3E','A2CC4DS7MD6QW','A24FT8EL2YEZVK','A2CHDWKAYZ3P3E',\\\n",
    "#                 'A3HHWIXEB86LL3','AEIA773ASGXI7','A22DDO8NILSX6O','A22Z03NU5RN6AZ',\\\n",
    "#                 'A2PE32I58ANCDD','A3UOD9HZX87Q7O','A2NGMLBFZ3YQP5','A2Q7BWWDXGQJQR',\\\n",
    "#                 'ANCCKNF1DKRZO','A2AWBDW9V1E9KT','A34N69O6CMW2S1','A3N6552D8M4QW8',\n",
    "#                 'A3S87CX8T0H7FU','A1BIN5R8FF4FQR']\n",
    "\n",
    "## from chairs2k\n",
    "already_comp = ['A1BIN5R8FF4FQR','A1AF25FCVKC87X','A1AF25FCVKC87X','A2DW21D4LNQQ3P',\\\n",
    "               'AIOOOO5OXWXKM','AKNYT1NTK2UFK','A34N69O6CMW2S1','ARJ8XLYXTWNE','A25YOFWQOT6W8W',\\\n",
    "               'A2S3CA4LHZYD0Z','A75KNEWELPXAN','A2NA2YT6UA5N4X','A2ADEPVGNNXNPA',\n",
    "               'A29FUGECANV8BT','A3S8TCGE1CVC1P','A1TCVI7XIUYAS6','A259UZJQOOVE4V',\\\n",
    "               'A3GDUZQGHRXUJI','A2SDYTC2KXID0I','A5BEH1IONAYMB','A3AVUWEVKE63E8',\\\n",
    "               'A3CYV47MM7OA6M','A13B56UPRDS9HH','A1YX741QQSMKPS','A23A1WMFNPETYQ',\\\n",
    "               'A1TWZEOYQV4LGI','A6ORRFI3XOACA']\n",
    "\n",
    "#### potentially: A2Q7BWWDXGQJQR because they didn't actually experience technical difficulties\n",
    "\n",
    "import json\n",
    "for this_comp in new_comps:\n",
    "    J = json.loads(open('{}'.format(os.path.join(dirpath,this_comp)),mode='ru').read())\n",
    "\n",
    "    try:\n",
    "        ## April 3 2018: 1522802963803\n",
    "        ## April 24 2018 10:30AM: 1524591245888\n",
    "        wID = J['WorkerId']\n",
    "        g = coll.find({'workerId':wID}).distinct('gameid')\n",
    "        b = coll.find({'$and': [{'gameid':g[-1]},{'eventType':'clickedObj'}, {'iterationName':'chairs2k_expansion_only'}, {'time': {'$gt': 1522802963803}}]}).sort('time')\n",
    "        correct = []\n",
    "        for rec in b:\n",
    "            correct.append(rec['correct'])\n",
    "\n",
    "        score = sum(correct)    \n",
    "        # print sum(correct), b.count()\n",
    "\n",
    "        total_amt = np.round((b.count()/70)*2.5 + 0.02*sum(correct),3)\n",
    "        hID = J['HITId']\n",
    "        aID = J['AssignmentId']\n",
    "        if wID not in already_comp:\n",
    "            print 'worker: {} | aID: {} | total_amt: {} | score: {}'.format(wID,aID,total_amt, score)\n",
    "    except:\n",
    "        print 'No games recorded for {}'.format(wID)\n",
    "        pass"
   ]
  },
  {
   "cell_type": "code",
   "execution_count": null,
   "metadata": {
    "collapsed": false
   },
   "outputs": [],
   "source": []
  },
  {
   "cell_type": "code",
   "execution_count": null,
   "metadata": {
    "collapsed": true
   },
   "outputs": [],
   "source": []
  },
  {
   "cell_type": "code",
   "execution_count": null,
   "metadata": {
    "collapsed": true
   },
   "outputs": [],
   "source": []
  },
  {
   "cell_type": "code",
   "execution_count": null,
   "metadata": {
    "collapsed": true
   },
   "outputs": [],
   "source": []
  },
  {
   "cell_type": "markdown",
   "metadata": {},
   "source": [
    "\"answers\": {\"subject_information\": {\"score\":67}},\n"
   ]
  },
  {
   "cell_type": "code",
   "execution_count": null,
   "metadata": {
    "collapsed": false
   },
   "outputs": [],
   "source": [
    "## 11:01 AM on april 18 still have to bonus ATF7HBD1TFI2U"
   ]
  },
  {
   "cell_type": "code",
   "execution_count": 54,
   "metadata": {
    "collapsed": false
   },
   "outputs": [
    {
     "data": {
      "text/plain": [
       "1772"
      ]
     },
     "execution_count": 54,
     "metadata": {},
     "output_type": "execute_result"
    }
   ],
   "source": [
    "# len(coll.distinct('workerId'))\n",
    "# coll.find({'workerId':'A3MXZMAX4XEZU4'}).count()\n",
    "# b = coll.find({'$and': [{'gameid':g[-1]},{'eventType':'clickedObj'}, {'iterationName':'chairs2k_expansion_only'}, {'time': {'$gt': 1522802963803}}]}).sort('time')"
   ]
  },
  {
   "cell_type": "code",
   "execution_count": 99,
   "metadata": {
    "collapsed": false
   },
   "outputs": [
    {
     "name": "stdout",
     "output_type": "stream",
     "text": [
      "worker: A1SJRFJWFXSDH4 | total_amt: 0.0914285714286 | score: 1\n"
     ]
    }
   ],
   "source": [
    "wID = 'A1SJRFJWFXSDH4'\n",
    "g = coll.find({'workerId':wID}).distinct('gameid')\n",
    "b = coll.find({'$and': [{'gameid':g[-1]},{'eventType':'clickedObj'}, {'iterationName':'chairs2k_expansion_only'}, {'time': {'$gt': 1522802963803}}]}).sort('time')\n",
    "correct = []\n",
    "for rec in b:\n",
    "    correct.append(rec['correct'])\n",
    "\n",
    "score = sum(correct)    \n",
    "# print sum(correct), b.count()\n",
    "\n",
    "total_amt = (b.count()/70)*2.5 + 0.02*sum(correct)\n",
    "if wID not in already_comp:\n",
    "    print 'worker: {} | total_amt: {} | score: {}'.format(wID,total_amt,score)"
   ]
  },
  {
   "cell_type": "code",
   "execution_count": null,
   "metadata": {
    "collapsed": false
   },
   "outputs": [],
   "source": []
  },
  {
   "cell_type": "code",
   "execution_count": null,
   "metadata": {
    "collapsed": true
   },
   "outputs": [],
   "source": [
    "## already compensated bonused workers\n",
    "## worker: A3BFMY5OX2WMUW | aID: 3KOPY89HM9G9MG9QFTU88Z6SO6V3JR | total_amt: 3.7 | score: 60\n",
    "## worker: A1TQ0BT81FJYNS | aID: 3LUY3GC630EN9ADBCI2IIC4K27N7P0 | total_amt: 3.84 | score: 67\n",
    "## worker: A3EQR9C0L23O6E | aID: 3ZQIG0FLQFUF49B862JTGKSJINYVWF | total_amt: 0.0 | score: 0\n",
    "## worker: A3ROADR7T6811 | aID: 3N2BF7Y2VR8EHWMAXBW2SLZJC69MHP | total_amt: 3.84 | score: 67"
   ]
  },
  {
   "cell_type": "code",
   "execution_count": null,
   "metadata": {
    "collapsed": false
   },
   "outputs": [],
   "source": []
  },
  {
   "cell_type": "code",
   "execution_count": null,
   "metadata": {
    "collapsed": false
   },
   "outputs": [],
   "source": []
  },
  {
   "cell_type": "code",
   "execution_count": null,
   "metadata": {
    "collapsed": true
   },
   "outputs": [],
   "source": []
  },
  {
   "cell_type": "code",
   "execution_count": null,
   "metadata": {
    "collapsed": false
   },
   "outputs": [],
   "source": []
  },
  {
   "cell_type": "code",
   "execution_count": 23,
   "metadata": {
    "collapsed": false
   },
   "outputs": [
    {
     "data": {
      "text/plain": [
       "<pymongo.results.UpdateResult at 0x104ec69e0>"
      ]
     },
     "execution_count": 23,
     "metadata": {},
     "output_type": "execute_result"
    }
   ],
   "source": [
    "####### ONLY RUN IF YOU ARE SURE YOU WANT TO RENAME\n",
    "########db.chairs_chatbox.update_many({'iterationName':'chairs2k_expansion_only______'},{'$set': {'iterationName': 'chairs1k_expansion_only'}})"
   ]
  },
  {
   "cell_type": "code",
   "execution_count": null,
   "metadata": {
    "collapsed": false
   },
   "outputs": [],
   "source": []
  },
  {
   "cell_type": "code",
   "execution_count": null,
   "metadata": {
    "collapsed": true
   },
   "outputs": [],
   "source": []
  }
 ],
 "metadata": {
  "kernelspec": {
   "display_name": "Python 2",
   "language": "python",
   "name": "python2"
  },
  "language_info": {
   "codemirror_mode": {
    "name": "ipython",
    "version": 2
   },
   "file_extension": ".py",
   "mimetype": "text/x-python",
   "name": "python",
   "nbconvert_exporter": "python",
   "pygments_lexer": "ipython2",
   "version": "2.7.13"
  }
 },
 "nbformat": 4,
 "nbformat_minor": 1
}
