{
 "cells": [
  {
   "cell_type": "code",
   "execution_count": 1,
   "metadata": {
    "collapsed": false
   },
   "outputs": [
    {
     "name": "stderr",
     "output_type": "stream",
     "text": [
      "/Users/judithfan/Library/Python/2.7/lib/python/site-packages/pandas/_libs/__init__.py:4: RuntimeWarning: numpy.dtype size changed, may indicate binary incompatibility. Expected 96, got 88\n",
      "  from .tslib import iNaT, NaT, Timestamp, Timedelta, OutOfBoundsDatetime\n",
      "/Users/judithfan/Library/Python/2.7/lib/python/site-packages/pandas/__init__.py:26: RuntimeWarning: numpy.dtype size changed, may indicate binary incompatibility. Expected 96, got 88\n",
      "  from pandas._libs import (hashtable as _hashtable,\n",
      "/Users/judithfan/Library/Python/2.7/lib/python/site-packages/pandas/core/dtypes/common.py:6: RuntimeWarning: numpy.dtype size changed, may indicate binary incompatibility. Expected 96, got 88\n",
      "  from pandas._libs import algos, lib\n",
      "/Users/judithfan/Library/Python/2.7/lib/python/site-packages/pandas/core/util/hashing.py:7: RuntimeWarning: numpy.dtype size changed, may indicate binary incompatibility. Expected 96, got 88\n",
      "  from pandas._libs import hashing, tslib\n",
      "/Users/judithfan/Library/Python/2.7/lib/python/site-packages/pandas/core/indexes/base.py:7: RuntimeWarning: numpy.dtype size changed, may indicate binary incompatibility. Expected 96, got 88\n",
      "  from pandas._libs import (lib, index as libindex, tslib as libts,\n",
      "/Users/judithfan/Library/Python/2.7/lib/python/site-packages/pandas/tseries/offsets.py:21: RuntimeWarning: numpy.dtype size changed, may indicate binary incompatibility. Expected 96, got 88\n",
      "  import pandas._libs.tslibs.offsets as liboffsets\n",
      "/Users/judithfan/Library/Python/2.7/lib/python/site-packages/pandas/core/ops.py:16: RuntimeWarning: numpy.dtype size changed, may indicate binary incompatibility. Expected 96, got 88\n",
      "  from pandas._libs import algos as libalgos, ops as libops\n",
      "/Users/judithfan/Library/Python/2.7/lib/python/site-packages/pandas/core/indexes/interval.py:32: RuntimeWarning: numpy.dtype size changed, may indicate binary incompatibility. Expected 96, got 88\n",
      "  from pandas._libs.interval import (\n",
      "/Users/judithfan/Library/Python/2.7/lib/python/site-packages/pandas/core/internals.py:14: RuntimeWarning: numpy.dtype size changed, may indicate binary incompatibility. Expected 96, got 88\n",
      "  from pandas._libs import internals as libinternals\n",
      "/Users/judithfan/Library/Python/2.7/lib/python/site-packages/pandas/core/sparse/array.py:33: RuntimeWarning: numpy.dtype size changed, may indicate binary incompatibility. Expected 96, got 88\n",
      "  import pandas._libs.sparse as splib\n",
      "/Users/judithfan/Library/Python/2.7/lib/python/site-packages/pandas/core/window.py:36: RuntimeWarning: numpy.dtype size changed, may indicate binary incompatibility. Expected 96, got 88\n",
      "  import pandas._libs.window as _window\n",
      "/Users/judithfan/Library/Python/2.7/lib/python/site-packages/pandas/core/groupby/groupby.py:68: RuntimeWarning: numpy.dtype size changed, may indicate binary incompatibility. Expected 96, got 88\n",
      "  from pandas._libs import (lib, reduction,\n",
      "/Users/judithfan/Library/Python/2.7/lib/python/site-packages/pandas/core/reshape/reshape.py:30: RuntimeWarning: numpy.dtype size changed, may indicate binary incompatibility. Expected 96, got 88\n",
      "  from pandas._libs import algos as _algos, reshape as _reshape\n",
      "/Users/judithfan/Library/Python/2.7/lib/python/site-packages/pandas/io/parsers.py:45: RuntimeWarning: numpy.dtype size changed, may indicate binary incompatibility. Expected 96, got 88\n",
      "  import pandas._libs.parsers as parsers\n",
      "/Users/judithfan/Library/Python/2.7/lib/python/site-packages/pandas/io/pytables.py:50: RuntimeWarning: numpy.dtype size changed, may indicate binary incompatibility. Expected 96, got 88\n",
      "  from pandas._libs import algos, lib, writers as libwriters\n"
     ]
    }
   ],
   "source": [
    "import numpy as np\n",
    "import pymongo as pm\n",
    "import pandas as pd\n",
    "import os"
   ]
  },
  {
   "cell_type": "code",
   "execution_count": 4,
   "metadata": {
    "collapsed": false
   },
   "outputs": [],
   "source": [
    "import os\n",
    "import urllib, cStringIO\n",
    "\n",
    "import pymongo as pm\n",
    "\n",
    "import matplotlib\n",
    "from matplotlib import pylab, mlab, pyplot\n",
    "%matplotlib inline\n",
    "from IPython.core.pylabtools import figsize, getfigs\n",
    "plt = pyplot\n",
    "import seaborn as sns\n",
    "sns.set_context('poster')\n",
    "sns.set_style('white')\n",
    "\n",
    "import numpy as np\n",
    "from __future__ import division\n",
    "import scipy.stats as stats\n",
    "import pandas as pd\n",
    "import json\n",
    "import re\n",
    "\n",
    "from PIL import Image\n",
    "import base64\n",
    "import json     "
   ]
  },
  {
   "cell_type": "markdown",
   "metadata": {},
   "source": [
    "### connect to db"
   ]
  },
  {
   "cell_type": "code",
   "execution_count": 5,
   "metadata": {
    "collapsed": false
   },
   "outputs": [],
   "source": [
    "# set vars \n",
    "auth = pd.read_csv('auth.txt', header = None) # this auth.txt file contains the password for the sketchloop user\n",
    "pswd = auth.values[0][0]\n",
    "user = 'sketchloop'\n",
    "host = 'rxdhawkins.me' ## cocolab ip address\n",
    "\n",
    "# have to fix this to be able to analyze from local\n",
    "import pymongo as pm\n",
    "conn = pm.MongoClient('mongodb://sketchloop:' + pswd + '@127.0.0.1')\n",
    "db = conn['3dObjects']\n",
    "coll = db['chairs_chatbox']"
   ]
  },
  {
   "cell_type": "markdown",
   "metadata": {},
   "source": [
    "### basic details about dataset\n"
   ]
  },
  {
   "cell_type": "code",
   "execution_count": 6,
   "metadata": {
    "collapsed": false
   },
   "outputs": [
    {
     "name": "stdout",
     "output_type": "stream",
     "text": [
      "25214 chair trials in dataset.\n",
      "576 wave1 chair trials in dataset.\n",
      "24638 wave2 chair trials in dataset.\n"
     ]
    }
   ],
   "source": [
    "###### how many total after we started the chairs1k production sample\n",
    "wave1 = coll.find({'$and': [{'iterationName':'close_only'},{'intendedName':{\"$exists\": True}},{'eventType':'clickedObj'},{'time':{'$gt':1507674252874}}]}).sort('intendedName')\n",
    "wave2 = coll.find({'$and': [{'iterationName':'chairs1k'},{'intendedName':{\"$exists\": True}},{'eventType':'clickedObj'},{'time':{'$gt':1507674252874}}]}).sort('intendedName')\n",
    "print str(wave1.count() + wave2.count()) + ' chair trials in dataset.'\n",
    "print str(wave1.count()) + ' wave1 chair trials in dataset.'\n",
    "print str(wave2.count()) + ' wave2 chair trials in dataset.'"
   ]
  },
  {
   "cell_type": "markdown",
   "metadata": {
    "collapsed": false
   },
   "source": [
    "##### how many unique workers were there?"
   ]
  },
  {
   "cell_type": "code",
   "execution_count": 7,
   "metadata": {
    "collapsed": false
   },
   "outputs": [
    {
     "name": "stdout",
     "output_type": "stream",
     "text": [
      "In total, there were 2124 unique workers.\n"
     ]
    }
   ],
   "source": [
    "workers = coll.find({'iterationName': 'close_only'}).distinct('workerId') + \\\n",
    "          coll.find({'iterationName': 'chairs1k'}).distinct('workerId') + \\\n",
    "          coll.find({'iterationName': 'chairs2k_expansion_only'}).distinct('workerId') + \\\n",
    "          coll.find({'iterationName': 'chairs1k_expansion_only'}).distinct('workerId')         \n",
    "print 'In total, there were {} unique workers.'.format(len(np.unique(workers)))"
   ]
  },
  {
   "cell_type": "code",
   "execution_count": 8,
   "metadata": {
    "collapsed": true
   },
   "outputs": [],
   "source": [
    "## how many games did each worker play?\n",
    "from collections import Counter\n",
    "worker_games = Counter(workers)\n",
    "num_per_worker = worker_games.values()"
   ]
  },
  {
   "cell_type": "markdown",
   "metadata": {},
   "source": [
    "### loop through all games and build group data csv"
   ]
  },
  {
   "cell_type": "code",
   "execution_count": null,
   "metadata": {
    "collapsed": false
   },
   "outputs": [],
   "source": [
    "## TODO: encoding for worker ID so that we can always map from that anonymized ID to the actual AMT worker ID"
   ]
  },
  {
   "cell_type": "code",
   "execution_count": null,
   "metadata": {
    "collapsed": false,
    "scrolled": true
   },
   "outputs": [],
   "source": [
    "## get for iterationName = 'chairs1k'\n",
    "\n",
    "########## get list of games\n",
    "a = coll.find({'$and': [{'iterationName':'chairs1k'},\n",
    "                    {'eventType':'chatMessage'},\n",
    "                    {'time':{'$gt':1507674252874}},\n",
    "                    {'intendedName':{\"$exists\": True}}\n",
    "                   ]}).sort('time')\n",
    "games = a.distinct('gameid')\n",
    "\n",
    "chairA = []\n",
    "chairB = []\n",
    "chairC = []\n",
    "intendedName = []\n",
    "clickedObj = []\n",
    "chatMessage = []\n",
    "message_counter = []\n",
    "gameid = []\n",
    "click_time = []\n",
    "trialNum = []\n",
    "condition = []\n",
    "correct = []\n",
    "chat_time = []\n",
    "chat_RT = []\n",
    "role = []\n",
    "batch = [] ## ['original' vs. 'patch']\n",
    "\n",
    "for i,game in enumerate(games):    \n",
    "    print str(i) + ' ' + game\n",
    "    clicks = coll.find({'$and': [{'iterationName':'chairs1k'},\n",
    "                        {'eventType':'clickedObj'},\n",
    "                        {'time':{'$gt':1507674252874}},\n",
    "                        {'gameid': game},\n",
    "                        {'intendedName':{\"$exists\": True}}                                 \n",
    "                       ]}).sort('trialNum')  \n",
    "    \n",
    "    for click in clicks:\n",
    "        \n",
    "        currTrial = click['trialNum']        \n",
    "        \n",
    "        chats = coll.find({'$and': [{'iterationName':'chairs1k'},\n",
    "                            {'eventType':'chatMessage'},\n",
    "                            {'time':{'$gt':1507674252874}},\n",
    "                            {'gameid': game},\n",
    "                            {'trialNum': currTrial},\n",
    "                            {'intendedName':{\"$exists\": True}}                                    \n",
    "                           ]}).sort('time')        \n",
    "        \n",
    "        for chat in chats:\n",
    "            chat_time.append(chat['time'])\n",
    "            chat_RT.append(chat['reactionTime'])\n",
    "            chatMessage.append(chat['text'])\n",
    "            role.append(chat['role'])\n",
    "            intendedName.append(chat['intendedName'])            \n",
    "            clickedObj.append(click['clickedName'])\n",
    "            trialNum.append(click['trialNum'])        \n",
    "            chairA.append(click['object1Name'])\n",
    "            chairB.append(click['object2Name'])\n",
    "            chairC.append(click['object3Name'])  \n",
    "            click_time.append(click['time'])\n",
    "            gameid.append(click['gameid'])\n",
    "            condition.append(click['condition'])\n",
    "            correct.append(click['correct'])\n",
    "            if click['time'] < 1522802963803:\n",
    "                batch.append('original')\n",
    "            else:\n",
    "                batch.append('patched')"
   ]
  },
  {
   "cell_type": "code",
   "execution_count": null,
   "metadata": {
    "collapsed": false
   },
   "outputs": [],
   "source": []
  },
  {
   "cell_type": "code",
   "execution_count": null,
   "metadata": {
    "collapsed": false
   },
   "outputs": [],
   "source": [
    "########## get list of close-only-games\n",
    "a = coll.find({'$and': [{'iterationName':'close_only'},\n",
    "                    {'eventType':'chatMessage'},\n",
    "                    {'time':{'$gt':1507674252874}}\n",
    "                   ]}).sort('time')\n",
    "games = a.distinct('gameid')\n",
    "\n",
    "for i,game in enumerate(games):    \n",
    "    print str(i) + ' ' + game\n",
    "    clicks = coll.find({'$and': [{'iterationName':'close_only'},\n",
    "                        {'eventType':'clickedObj'},\n",
    "                        {'time':{'$gt':1507674252874}},\n",
    "                        {'gameid': game}\n",
    "                       ]}).sort('trialNum')  \n",
    "    \n",
    "    for click in clicks:\n",
    "        \n",
    "        currTrial = click['trialNum']        \n",
    "        \n",
    "        chats = coll.find({'$and': [{'iterationName':'close_only'},\n",
    "                            {'eventType':'chatMessage'},\n",
    "                            {'time':{'$gt':1507674252874}},\n",
    "                            {'gameid': game},\n",
    "                            {'trialNum': currTrial}\n",
    "                           ]}).sort('time')        \n",
    "        \n",
    "        for chat in chats:\n",
    "            chat_time.append(chat['time'])\n",
    "            chat_RT.append(chat['reactionTime'])\n",
    "            chatMessage.append(chat['text'])\n",
    "            role.append(chat['role'])\n",
    "            intendedName.append(chat['intendedName'])\n",
    "            \n",
    "            clickedObj.append(click['clickedName'])\n",
    "            trialNum.append(click['trialNum'])        \n",
    "            chairA.append(click['object1Name'])\n",
    "            chairB.append(click['object2Name'])\n",
    "            chairC.append(click['object3Name'])  \n",
    "            click_time.append(click['time'])\n",
    "            gameid.append(click['gameid'])\n",
    "            condition.append(click['condition'])\n",
    "            correct.append(click['correct']) \n",
    "            batch.append('original')"
   ]
  },
  {
   "cell_type": "code",
   "execution_count": null,
   "metadata": {
    "collapsed": true
   },
   "outputs": [],
   "source": []
  },
  {
   "cell_type": "code",
   "execution_count": null,
   "metadata": {
    "collapsed": true
   },
   "outputs": [],
   "source": []
  },
  {
   "cell_type": "markdown",
   "metadata": {},
   "source": [
    "#### save out patched chairs1k dataset"
   ]
  },
  {
   "cell_type": "code",
   "execution_count": null,
   "metadata": {
    "collapsed": false
   },
   "outputs": [],
   "source": [
    "import pandas as pd\n",
    "X = pd.DataFrame([chairA,\n",
    "                chairB,\n",
    "                chairC,\n",
    "                intendedName,\n",
    "                clickedObj,\n",
    "                chatMessage,\n",
    "                gameid,\n",
    "                click_time,\n",
    "                trialNum,\n",
    "                condition,\n",
    "                correct,\n",
    "                chat_time,\n",
    "                chat_RT,\n",
    "                role,\n",
    "                batch])\n",
    "\n",
    "X = X.transpose()\n",
    "X.columns = ['chair_a','chair_b','chair_c','target_chair','selected_chair','text','gameid',\n",
    "            'click_time','trial_num','context_condition','correct','chat_time','chat_RT', 'communication_role','batch']\n",
    "X.to_csv('chairs1k_group_data_patched.csv',encoding='utf-8')"
   ]
  },
  {
   "cell_type": "code",
   "execution_count": null,
   "metadata": {
    "collapsed": true
   },
   "outputs": [],
   "source": []
  },
  {
   "cell_type": "code",
   "execution_count": null,
   "metadata": {
    "collapsed": false
   },
   "outputs": [],
   "source": [
    "### if you need to manually remap batch tags\n",
    "reallyRun = 0\n",
    "if reallyRun:\n",
    "    R = pd.read_csv('chairs1k_group_data_patched.csv')\n",
    "    d = {'new':'patched',\n",
    "         'original':'original'}\n",
    "    R['batch'] = R.batch.map(d)"
   ]
  },
  {
   "cell_type": "markdown",
   "metadata": {},
   "source": [
    "### add chairs1k doubling dataset"
   ]
  },
  {
   "cell_type": "code",
   "execution_count": null,
   "metadata": {
    "collapsed": false
   },
   "outputs": [],
   "source": [
    "###### how many total from chairs1k expansion sample\n",
    "wave3 = coll.find({'$and': [{'iterationName':'chairs1k_expansion_only'},{'intendedName':{\"$exists\": True}},{'eventType':'clickedObj'},{'time':{'$gt':1507674252874}}]}).sort('intendedName')\n",
    "print str(wave3.count()) + ' wave3 chair trials in dataset.'"
   ]
  },
  {
   "cell_type": "code",
   "execution_count": null,
   "metadata": {
    "collapsed": false,
    "scrolled": false
   },
   "outputs": [],
   "source": [
    "## get for iterationName = 'chairs1k'\n",
    "\n",
    "########## get list of games\n",
    "a = coll.find({'$and': [{'iterationName':'chairs1k_expansion_only'},\n",
    "                    {'eventType':'chatMessage'},\n",
    "                    {'time':{'$gt':1507674252874}},\n",
    "                    {'intendedName':{\"$exists\": True}}\n",
    "                   ]}).sort('time')\n",
    "games = a.distinct('gameid')\n",
    "\n",
    "chairA = []\n",
    "chairB = []\n",
    "chairC = []\n",
    "intendedName = []\n",
    "clickedObj = []\n",
    "chatMessage = []\n",
    "message_counter = []\n",
    "gameid = []\n",
    "click_time = []\n",
    "trialNum = []\n",
    "condition = []\n",
    "correct = []\n",
    "chat_time = []\n",
    "chat_RT = []\n",
    "role = []\n",
    "batch = [] ## ['original' vs. 'patch' vs. 'doubled']\n",
    "\n",
    "for i,game in enumerate(games):    \n",
    "    print str(i) + ' ' + game\n",
    "    clicks = coll.find({'$and': [{'iterationName':'chairs1k_expansion_only'},\n",
    "                        {'eventType':'clickedObj'},\n",
    "                        {'time':{'$gt':1507674252874}},\n",
    "                        {'gameid': game},\n",
    "                        {'intendedName':{\"$exists\": True}}                                 \n",
    "                       ]}).sort('trialNum')  \n",
    "    \n",
    "    for click in clicks:\n",
    "        \n",
    "        currTrial = click['trialNum']        \n",
    "        \n",
    "        chats = coll.find({'$and': [{'iterationName':'chairs1k_expansion_only'},\n",
    "                            {'eventType':'chatMessage'},\n",
    "                            {'time':{'$gt':1507674252874}},\n",
    "                            {'gameid': game},\n",
    "                            {'trialNum': currTrial},\n",
    "                            {'intendedName':{\"$exists\": True}}                                    \n",
    "                           ]}).sort('time')        \n",
    "        \n",
    "        for chat in chats:\n",
    "            chat_time.append(chat['time'])\n",
    "            chat_RT.append(chat['reactionTime'])\n",
    "            chatMessage.append(chat['text'])\n",
    "            role.append(chat['role'])\n",
    "            intendedName.append(chat['intendedName'])            \n",
    "            clickedObj.append(click['clickedName'])\n",
    "            trialNum.append(click['trialNum'])        \n",
    "            chairA.append(click['object1Name'])\n",
    "            chairB.append(click['object2Name'])\n",
    "            chairC.append(click['object3Name'])  \n",
    "            click_time.append(click['time'])\n",
    "            gameid.append(click['gameid'])\n",
    "            condition.append(click['condition'])\n",
    "            correct.append(click['correct'])\n",
    "            batch.append('doubled')"
   ]
  },
  {
   "cell_type": "code",
   "execution_count": null,
   "metadata": {
    "collapsed": false
   },
   "outputs": [],
   "source": [
    "import pandas as pd\n",
    "Y = pd.DataFrame([chairA,\n",
    "                chairB,\n",
    "                chairC,\n",
    "                intendedName,\n",
    "                clickedObj,\n",
    "                chatMessage,\n",
    "                gameid,\n",
    "                click_time,\n",
    "                trialNum,\n",
    "                condition,\n",
    "                correct,\n",
    "                chat_time,\n",
    "                chat_RT,\n",
    "                role,\n",
    "                batch])\n",
    "\n",
    "Y = Y.transpose()\n",
    "Y.columns = ['chair_a','chair_b','chair_c','target_chair','selected_chair','text','gameid',\n",
    "            'click_time','trial_num','context_condition','correct','chat_time','chat_RT', 'communication_role','batch']\n",
    "Y.to_csv('chairs1k_expansion_only_group_data.csv',encoding='utf-8',index=False)"
   ]
  },
  {
   "cell_type": "code",
   "execution_count": null,
   "metadata": {
    "collapsed": true
   },
   "outputs": [],
   "source": []
  },
  {
   "cell_type": "code",
   "execution_count": null,
   "metadata": {
    "collapsed": true
   },
   "outputs": [],
   "source": []
  },
  {
   "cell_type": "code",
   "execution_count": null,
   "metadata": {
    "collapsed": true
   },
   "outputs": [],
   "source": []
  },
  {
   "cell_type": "code",
   "execution_count": null,
   "metadata": {
    "collapsed": true
   },
   "outputs": [],
   "source": []
  },
  {
   "cell_type": "markdown",
   "metadata": {
    "collapsed": false
   },
   "source": [
    "### combine accumulated chairs1k dataset (collected April 17 - April 20 2018)"
   ]
  },
  {
   "cell_type": "code",
   "execution_count": null,
   "metadata": {
    "collapsed": false
   },
   "outputs": [],
   "source": [
    "## load in patched data from first two waves\n",
    "Z = pd.read_csv('chairs1k_group_data_patched.csv')\n",
    "\n",
    "## load in expansion only    \n",
    "Y = pd.read_csv('chairs1k_expansion_only_group_data.csv')   \n",
    "\n",
    "## save out all chairs1k data\n",
    "W = pd.concat([Z,Y])\n",
    "W.to_csv('chairs1k_group_data.csv',index=False)"
   ]
  },
  {
   "cell_type": "code",
   "execution_count": null,
   "metadata": {
    "collapsed": false
   },
   "outputs": [],
   "source": []
  },
  {
   "cell_type": "code",
   "execution_count": null,
   "metadata": {
    "collapsed": false
   },
   "outputs": [],
   "source": []
  },
  {
   "cell_type": "code",
   "execution_count": null,
   "metadata": {
    "collapsed": true
   },
   "outputs": [],
   "source": []
  },
  {
   "cell_type": "code",
   "execution_count": null,
   "metadata": {
    "collapsed": true
   },
   "outputs": [],
   "source": []
  },
  {
   "cell_type": "code",
   "execution_count": null,
   "metadata": {
    "collapsed": true
   },
   "outputs": [],
   "source": []
  },
  {
   "cell_type": "code",
   "execution_count": null,
   "metadata": {
    "collapsed": true
   },
   "outputs": [],
   "source": []
  },
  {
   "cell_type": "markdown",
   "metadata": {},
   "source": [
    "### preprocess chairs2k dataset (collected April 23 - April 24 2018)"
   ]
  },
  {
   "cell_type": "code",
   "execution_count": null,
   "metadata": {
    "collapsed": false
   },
   "outputs": [],
   "source": [
    "###### how many total from chairs1k expansion sample\n",
    "wave4 = coll.find({'$and': [{'iterationName':'chairs2k_expansion_only'},{'intendedName':{\"$exists\": True}},{'eventType':'clickedObj'},{'time':{'$gt':1507674252874}}]}).sort('intendedName')\n",
    "print str(wave4.count()) + ' wave4 chair trials in dataset.'"
   ]
  },
  {
   "cell_type": "code",
   "execution_count": null,
   "metadata": {
    "collapsed": false,
    "scrolled": false
   },
   "outputs": [],
   "source": [
    "## get for iterationName = 'chairs2k'\n",
    "\n",
    "########## get list of games\n",
    "a = coll.find({'$and': [{'iterationName':'chairs2k_expansion_only'},\n",
    "                    {'eventType':'chatMessage'},\n",
    "                    {'time':{'$gt':1507674252874}},\n",
    "                    {'intendedName':{\"$exists\": True}}\n",
    "                   ]}).sort('time')\n",
    "games = a.distinct('gameid')\n",
    "\n",
    "chairA = []\n",
    "chairB = []\n",
    "chairC = []\n",
    "intendedName = []\n",
    "clickedObj = []\n",
    "chatMessage = []\n",
    "message_counter = []\n",
    "gameid = []\n",
    "click_time = []\n",
    "trialNum = []\n",
    "condition = []\n",
    "correct = []\n",
    "chat_time = []\n",
    "chat_RT = []\n",
    "role = []\n",
    "batch = [] ## ['original' vs. 'patch']\n",
    "\n",
    "for i,game in enumerate(games):    \n",
    "    print str(i) + ' ' + game\n",
    "    clicks = coll.find({'$and': [{'iterationName':'chairs2k_expansion_only'},\n",
    "                        {'eventType':'clickedObj'},\n",
    "                        {'time':{'$gt':1507674252874}},\n",
    "                        {'gameid': game},\n",
    "                        {'intendedName':{\"$exists\": True}}                                 \n",
    "                       ]}).sort('trialNum')  \n",
    "    \n",
    "    for click in clicks:\n",
    "        \n",
    "        currTrial = click['trialNum']        \n",
    "        \n",
    "        chats = coll.find({'$and': [{'iterationName':'chairs2k_expansion_only'},\n",
    "                            {'eventType':'chatMessage'},\n",
    "                            {'time':{'$gt':1507674252874}},\n",
    "                            {'gameid': game},\n",
    "                            {'trialNum': currTrial},\n",
    "                            {'intendedName':{\"$exists\": True}}                                    \n",
    "                           ]}).sort('time')        \n",
    "        \n",
    "        for chat in chats:\n",
    "            chat_time.append(chat['time'])\n",
    "            chat_RT.append(chat['reactionTime'])\n",
    "            chatMessage.append(chat['text'])\n",
    "            role.append(chat['role'])\n",
    "            intendedName.append(chat['intendedName'])            \n",
    "            clickedObj.append(click['clickedName'])\n",
    "            trialNum.append(click['trialNum'])        \n",
    "            chairA.append(click['object1Name'])\n",
    "            chairB.append(click['object2Name'])\n",
    "            chairC.append(click['object3Name'])  \n",
    "            click_time.append(click['time'])\n",
    "            gameid.append(click['gameid'])\n",
    "            condition.append(click['condition'])\n",
    "            correct.append(click['correct'])\n",
    "            batch.append('2k')"
   ]
  },
  {
   "cell_type": "code",
   "execution_count": null,
   "metadata": {
    "collapsed": true
   },
   "outputs": [],
   "source": [
    "import pandas as pd\n",
    "Y = pd.DataFrame([chairA,\n",
    "                chairB,\n",
    "                chairC,\n",
    "                intendedName,\n",
    "                clickedObj,\n",
    "                chatMessage,\n",
    "                gameid,\n",
    "                click_time,\n",
    "                trialNum,\n",
    "                condition,\n",
    "                correct,\n",
    "                chat_time,\n",
    "                chat_RT,\n",
    "                role,\n",
    "                batch])\n",
    "\n",
    "Y = Y.transpose()\n",
    "Y.columns = ['chair_a','chair_b','chair_c','target_chair','selected_chair','text','gameid',\n",
    "            'click_time','trial_num','context_condition','correct','chat_time','chat_RT', 'communication_role','batch']\n"
   ]
  },
  {
   "cell_type": "code",
   "execution_count": null,
   "metadata": {
    "collapsed": true
   },
   "outputs": [],
   "source": [
    "## check to make sure this dataframe has indices"
   ]
  },
  {
   "cell_type": "code",
   "execution_count": null,
   "metadata": {
    "collapsed": true
   },
   "outputs": [],
   "source": [
    "Y.to_csv('chairs2k_expansion_only_group_data.csv',encoding='utf-8',index=False)"
   ]
  },
  {
   "cell_type": "code",
   "execution_count": null,
   "metadata": {
    "collapsed": false
   },
   "outputs": [],
   "source": []
  },
  {
   "cell_type": "code",
   "execution_count": null,
   "metadata": {
    "collapsed": false
   },
   "outputs": [],
   "source": []
  },
  {
   "cell_type": "code",
   "execution_count": null,
   "metadata": {
    "collapsed": false
   },
   "outputs": [],
   "source": [
    "from collections import Counter\n",
    "b = zip(Y['chair_a'],Y['chair_b'],Y['chair_c'],Y['context_condition'])"
   ]
  },
  {
   "cell_type": "code",
   "execution_count": null,
   "metadata": {
    "collapsed": false
   },
   "outputs": [],
   "source": [
    "triplet_id = []\n",
    "for i,d in Y.iterrows():\n",
    "    triplet_id.append(d['chair_a']+d['chair_b']+d['chair_c']+d['context_condition']+d['target_chair'])"
   ]
  },
  {
   "cell_type": "code",
   "execution_count": null,
   "metadata": {
    "collapsed": false
   },
   "outputs": [],
   "source": [
    "print len(triplet_id)\n",
    "print len(np.unique(triplet_id))\n",
    "c = Counter(triplet_id).values()\n",
    "c = np.array(c)\n",
    "plt.hist(c,bins=13)\n",
    "r = plt.xticks(np.arange(0,12))"
   ]
  },
  {
   "cell_type": "code",
   "execution_count": null,
   "metadata": {
    "collapsed": false
   },
   "outputs": [],
   "source": []
  },
  {
   "cell_type": "code",
   "execution_count": null,
   "metadata": {
    "collapsed": true
   },
   "outputs": [],
   "source": []
  },
  {
   "cell_type": "markdown",
   "metadata": {},
   "source": [
    "### Combine chairs1k and chairs2k data to create accumulated dataset"
   ]
  },
  {
   "cell_type": "code",
   "execution_count": null,
   "metadata": {
    "collapsed": false
   },
   "outputs": [],
   "source": [
    "## load in patched data from first two waves\n",
    "Z = pd.read_csv('chairs1k_group_data_doubled.csv')\n",
    "# if Z['Unnamed: 0'].any():\n",
    "#     Z = Z.drop(['Unnamed: 0'], axis = 1)\n",
    "\n",
    "## load in expansion only    \n",
    "Y = pd.read_csv('chairs2k_expansion_only_group_data.csv')   \n",
    "\n",
    "## save out all chairs1k data\n",
    "W = pd.concat([Z,Y])\n",
    "W.to_csv('chairs2k_group_data.csv',index=False)"
   ]
  },
  {
   "cell_type": "code",
   "execution_count": null,
   "metadata": {
    "collapsed": false
   },
   "outputs": [],
   "source": []
  },
  {
   "cell_type": "code",
   "execution_count": null,
   "metadata": {
    "collapsed": false
   },
   "outputs": [],
   "source": [
    "## load in patched data from first two waves\n",
    "Z = pdc.read_csv('chairs1k_group_data_patched.csv')\n",
    "\n",
    "## load in expansion only    \n",
    "Y = pd.read_csv('chairs2k_expansion_only_group_data.csv')   \n",
    "\n",
    "## save out all chairs1k data\n",
    "W = pd.concat([Z,Y])\n",
    "W.to_csv('chairs2k_group_data_rounded.csv',index=False)"
   ]
  },
  {
   "cell_type": "code",
   "execution_count": null,
   "metadata": {
    "collapsed": false
   },
   "outputs": [],
   "source": []
  },
  {
   "cell_type": "code",
   "execution_count": null,
   "metadata": {
    "collapsed": false
   },
   "outputs": [],
   "source": []
  },
  {
   "cell_type": "markdown",
   "metadata": {},
   "source": [
    "### Sanity checks on data organization"
   ]
  },
  {
   "cell_type": "code",
   "execution_count": null,
   "metadata": {
    "collapsed": false
   },
   "outputs": [],
   "source": [
    "## the three chairs ID's should be unique\n",
    "from collections import defaultdict\n",
    "all_triplets = defaultdict(list)\n",
    "for i,d in Y.iterrows():\n",
    "\n",
    "    tokens_1 = d['chair_a'].split('_')\n",
    "    tokens_2 = d['chair_b'].split('_')\n",
    "    tokens_3 = d['chair_c'].split('_')\n",
    "    \n",
    "    triplets = []        \n",
    "    triplets.append(tokens_1[-1])    \n",
    "    triplets.append(tokens_2[-1])\n",
    "    triplets.append(tokens_3[-1])\n",
    "    assert(len(np.unique(triplets)) == 3)\n",
    "    \n",
    "    assert(d['context_condition'] == tokens_1[0] == tokens_2[0] == tokens_3[0])\n",
    "    \n",
    "    all_triplets[(d['context_condition'], d['target_chair'])].append(np.array(triplets, dtype=object))\n",
    "    \n",
    "#     assert d['clickedObj'] in  [d['chairsA'], d['chairsB'], d['chairsC']]\n",
    "\n",
    "#     assert(d['target_chair'] in  [d['chairsA'], d['chairsB'], d['chairsC']])\n",
    "    \n",
    "#     if d['intendedName'] == d['clickedObj']:\n",
    "#         assert(d['correct'])\n",
    "#     else:\n",
    "#         assert(not d['correct'])\n",
    "    \n",
    "    ## check the total number of chair ID's\n",
    "\n",
    "    ## check the total number of unique triplets (where target identity matters AND where it does not matter)\n",
    "\n",
    "    \n"
   ]
  },
  {
   "cell_type": "code",
   "execution_count": null,
   "metadata": {
    "collapsed": false
   },
   "outputs": [],
   "source": []
  },
  {
   "cell_type": "code",
   "execution_count": null,
   "metadata": {
    "collapsed": false
   },
   "outputs": [],
   "source": []
  },
  {
   "cell_type": "code",
   "execution_count": null,
   "metadata": {
    "collapsed": true
   },
   "outputs": [],
   "source": []
  },
  {
   "cell_type": "code",
   "execution_count": null,
   "metadata": {
    "collapsed": true
   },
   "outputs": [],
   "source": []
  },
  {
   "cell_type": "code",
   "execution_count": null,
   "metadata": {
    "collapsed": false
   },
   "outputs": [],
   "source": []
  },
  {
   "cell_type": "code",
   "execution_count": null,
   "metadata": {
    "collapsed": false
   },
   "outputs": [],
   "source": [
    "c_close = 0 \n",
    "c_far = 0\n",
    "close_triplets = []\n",
    "far_triplets = []\n",
    "for l in all_triplets.keys():\n",
    "    \n",
    "#     a  = all_triplets[l][0].split('_')[-1]\n",
    "#     b = all_triplets[l][1].split('_')[-1]\n",
    "#     c = all_triplets[l][2].split('_')[-1]\n",
    "    \n",
    "    if l[0] == 'close':\n",
    "        c_close +=1\n",
    "        close_triplets.append(np.sort(all_triplets[l]))\n",
    "    elif l[0] == 'far':\n",
    "        c_far += 1\n",
    "        far_triplets.append(np.sort(all_triplets[l]))\n",
    "    else:\n",
    "        assert(False)\n",
    "        "
   ]
  },
  {
   "cell_type": "code",
   "execution_count": null,
   "metadata": {
    "collapsed": false
   },
   "outputs": [],
   "source": [
    "far_triplets = np.vstack(close_triplets)"
   ]
  },
  {
   "cell_type": "code",
   "execution_count": null,
   "metadata": {
    "collapsed": false
   },
   "outputs": [],
   "source": [
    "len(np.unique(far_triplets))"
   ]
  },
  {
   "cell_type": "code",
   "execution_count": null,
   "metadata": {
    "collapsed": false
   },
   "outputs": [],
   "source": []
  },
  {
   "cell_type": "markdown",
   "metadata": {
    "collapsed": false
   },
   "source": [
    "### prep for wave3: load in original data from waves 1 and 2, check which triplets we need to \"patch\" by collecting more data"
   ]
  },
  {
   "cell_type": "code",
   "execution_count": null,
   "metadata": {
    "collapsed": false
   },
   "outputs": [],
   "source": [
    "X = pd.read_csv('chairs1k_group_data.csv')\n",
    "X = X.drop(['Unnamed: 0'],axis=1)"
   ]
  },
  {
   "cell_type": "code",
   "execution_count": null,
   "metadata": {
    "collapsed": false
   },
   "outputs": [],
   "source": [
    "X.columns"
   ]
  },
  {
   "cell_type": "code",
   "execution_count": null,
   "metadata": {
    "collapsed": false
   },
   "outputs": [],
   "source": [
    "## compose chairs into triplets and count how many utterances we have for each triplet\n",
    "abct = []\n",
    "for i,d in X.iterrows():\n",
    "    if i%6000==0:\n",
    "        print '{} of {} chairs'.format(i,len(X))\n",
    "    a = d['chair_a']\n",
    "    b = d['chair_b']\n",
    "    c = d['chair_c']\n",
    "    t = d['target_chair']\n",
    "    abct.append(tuple((a,b,c,t)))  "
   ]
  },
  {
   "cell_type": "code",
   "execution_count": null,
   "metadata": {
    "collapsed": false
   },
   "outputs": [],
   "source": [
    "## how many unique triplets do we have utterances on?\n",
    "print '{} unique triplets'.format(len(list(set(abct))))"
   ]
  },
  {
   "cell_type": "code",
   "execution_count": null,
   "metadata": {
    "collapsed": false
   },
   "outputs": [],
   "source": [
    "## add triplet tuple to dataframe\n",
    "triplet_list = triplets\n",
    "X['triplet_plus_target'] = abct"
   ]
  },
  {
   "cell_type": "code",
   "execution_count": null,
   "metadata": {
    "collapsed": false
   },
   "outputs": [],
   "source": [
    "## convert to flattened dataframe with list of gameids that saw this triplet\n",
    "X2 = pd.DataFrame(X.groupby('triplet_plus_target')['gameid'].unique())\n",
    "X2.reset_index(inplace=True)"
   ]
  },
  {
   "cell_type": "code",
   "execution_count": null,
   "metadata": {
    "collapsed": false
   },
   "outputs": [],
   "source": [
    "## break out triplet_plus_target into separate triplet and target columns\n",
    "triplet = []\n",
    "target = []\n",
    "for i,d in X2.iterrows():\n",
    "    triplet.append(list(d['triplet_plus_target'][:3]))\n",
    "    target.append(d['triplet_plus_target'][-1])\n",
    "\n",
    "    ## add triplet and target columns to dataframe    \n",
    "X2['triplet'] = triplet\n",
    "X2['target'] = target    "
   ]
  },
  {
   "cell_type": "code",
   "execution_count": null,
   "metadata": {
    "collapsed": false
   },
   "outputs": [],
   "source": [
    "## load in the chairs1k json\n",
    "import json\n",
    "J = json.loads(open('../stimuli/chairs1k.js',mode='ru').read())"
   ]
  },
  {
   "cell_type": "code",
   "execution_count": null,
   "metadata": {
    "collapsed": false
   },
   "outputs": [],
   "source": [
    "## loop through entries in J and rewrite the games field to actually contain \n",
    "## the list of gameids that have seen this triplet\n",
    "for j in J:\n",
    "    targ_index = j['target_status'].index('target')\n",
    "    chairs = [i.split('.')[0] for i in j['filename']]\n",
    "    targ = chairs[targ_index]\n",
    "    ## find the index in X2 that corresponds to this triplet,target tuple and get list of gameids\n",
    "    for i,x in enumerate(zip(X2['triplet'].values,X2['target'].values)):\n",
    "        if (x[0]==chairs) & (x[1]==targ):\n",
    "            ## retriee list of games that have seen this triplet\n",
    "            gameid_list = X2.iloc[i]['gameid']\n",
    "            j['games'] = list(gameid_list)"
   ]
  },
  {
   "cell_type": "code",
   "execution_count": null,
   "metadata": {
    "collapsed": false
   },
   "outputs": [],
   "source": [
    "## save out J as annotated version of dataset\n",
    "import json\n",
    "with open('../stimuli/chairs1k_annotated_032718.js', 'w') as fout:\n",
    "    json.dump(J, fout)"
   ]
  },
  {
   "cell_type": "code",
   "execution_count": null,
   "metadata": {
    "collapsed": false
   },
   "outputs": [],
   "source": []
  },
  {
   "cell_type": "markdown",
   "metadata": {
    "collapsed": true
   },
   "source": [
    "#### check on weird game with missing text data Aug 9 2018"
   ]
  },
  {
   "cell_type": "code",
   "execution_count": 18,
   "metadata": {
    "collapsed": false
   },
   "outputs": [],
   "source": []
  },
  {
   "cell_type": "code",
   "execution_count": 25,
   "metadata": {
    "collapsed": false
   },
   "outputs": [],
   "source": [
    "game = '6728-eac16fc7-3ed1-4a68-8d6b-f86af67bd620'\n",
    "clicks = coll.find({'$and': [{'iterationName':'chairs2k_expansion_only'},\n",
    "                    {'intendedName':{\"$exists\": True}},\n",
    "                    {'eventType':'clickedObj'},\n",
    "                    {'time':{'$gt':1507674252874}},\n",
    "                    {'gameid': game}]}).sort('intendedName')\n",
    "\n",
    "chatMessage = []\n",
    "correct = []\n",
    "\n",
    "for click in clicks:\n",
    "    currTrial = click['trialNum']        \n",
    "    chats = coll.find({'$and': [{'iterationName':'chairs2k_expansion_only'},\n",
    "                        {'eventType':'chatMessage'},\n",
    "                        {'time':{'$gt':1507674252874}},\n",
    "                        {'gameid': game},\n",
    "                        {'trialNum': currTrial},\n",
    "                        {'intendedName':{\"$exists\": True}}                                    \n",
    "                       ]}).sort('time') \n",
    "    \n",
    "    for chat in chats:\n",
    "#         chat_time.append(chat['time'])\n",
    "#         chat_RT.append(chat['reactionTime'])\n",
    "        chatMessage.append(chat['text'])\n",
    "#         role.append(chat['role'])\n",
    "#         intendedName.append(chat['intendedName'])            \n",
    "#         clickedObj.append(click['clickedName'])\n",
    "#         trialNum.append(click['trialNum'])        \n",
    "#         chairA.append(click['object1Name'])\n",
    "#         chairB.append(click['object2Name'])\n",
    "#         chairC.append(click['object3Name'])  \n",
    "#         click_time.append(click['time'])\n",
    "#         gameid.append(click['gameid'])\n",
    "#         condition.append(click['condition'])\n",
    "        correct.append(click['correct'])\n",
    "#         batch.append('2k')    "
   ]
  },
  {
   "cell_type": "code",
   "execution_count": 27,
   "metadata": {
    "collapsed": false
   },
   "outputs": [
    {
     "data": {
      "text/plain": [
       "[(u' ', True),\n",
       " (u' ', True),\n",
       " (u' ', True),\n",
       " (u' ', True),\n",
       " (u' ', True),\n",
       " (u' ', True),\n",
       " (u' ', True),\n",
       " (u' ', True),\n",
       " (u' ', True),\n",
       " (u' ', False),\n",
       " (u' ', True),\n",
       " (u' ', True),\n",
       " (u' ', True),\n",
       " (u' ', True),\n",
       " (u' ', True),\n",
       " (u' ', True),\n",
       " (u' ', True),\n",
       " (u' ', True),\n",
       " (u' ', True),\n",
       " (u' ', True),\n",
       " (u' ', True),\n",
       " (u' ', True),\n",
       " (u' ', True),\n",
       " (u' ', True),\n",
       " (u' ', True),\n",
       " (u' ', True),\n",
       " (u' ', True),\n",
       " (u' ', True),\n",
       " (u' ', True),\n",
       " (u' ', True),\n",
       " (u'  ', True),\n",
       " (u' ', True),\n",
       " (u' ', True),\n",
       " (u' ', True),\n",
       " (u' ', True),\n",
       " (u' ', True),\n",
       " (u' ', True),\n",
       " (u' ', True),\n",
       " (u' ', True),\n",
       " (u'chair with thin bar arm rest', True),\n",
       " (u'the couch with the arms that have slots in them', True),\n",
       " (u' ', True),\n",
       " (u' ', True),\n",
       " (u' ', True),\n",
       " (u' ', True),\n",
       " (u' ', True),\n",
       " (u' ', True),\n",
       " (u' ', True),\n",
       " (u' ', True),\n",
       " (u' ', True),\n",
       " (u' ', True),\n",
       " (u' ', True),\n",
       " (u' ', True),\n",
       " (u' ', True),\n",
       " (u' ', True),\n",
       " (u' ', True),\n",
       " (u' ', True),\n",
       " (u' ', True),\n",
       " (u' ', True),\n",
       " (u' ', True),\n",
       " (u' ', True),\n",
       " (u' ', True),\n",
       " (u' ', True),\n",
       " (u' ', True),\n",
       " (u' ', True),\n",
       " (u' ', True),\n",
       " (u' ', True),\n",
       " (u' ', True),\n",
       " (u' ', True),\n",
       " (u' ', True),\n",
       " (u' ', True)]"
      ]
     },
     "execution_count": 27,
     "metadata": {},
     "output_type": "execute_result"
    }
   ],
   "source": [
    "zip(chatMessage, correct)"
   ]
  },
  {
   "cell_type": "code",
   "execution_count": 32,
   "metadata": {
    "collapsed": false
   },
   "outputs": [
    {
     "data": {
      "text/plain": [
       "1"
      ]
     },
     "execution_count": 32,
     "metadata": {},
     "output_type": "execute_result"
    }
   ],
   "source": [
    "len(chatMessage[-1])"
   ]
  },
  {
   "cell_type": "code",
   "execution_count": null,
   "metadata": {
    "collapsed": true
   },
   "outputs": [],
   "source": []
  },
  {
   "cell_type": "code",
   "execution_count": null,
   "metadata": {
    "collapsed": true
   },
   "outputs": [],
   "source": []
  }
 ],
 "metadata": {
  "kernelspec": {
   "display_name": "Python 2",
   "language": "python",
   "name": "python2"
  },
  "language_info": {
   "codemirror_mode": {
    "name": "ipython",
    "version": 2
   },
   "file_extension": ".py",
   "mimetype": "text/x-python",
   "name": "python",
   "nbconvert_exporter": "python",
   "pygments_lexer": "ipython2",
   "version": "2.7.13"
  }
 },
 "nbformat": 4,
 "nbformat_minor": 0
}
